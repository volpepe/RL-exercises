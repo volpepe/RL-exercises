{
 "cells": [
  {
   "cell_type": "code",
   "execution_count": 9,
   "metadata": {},
   "outputs": [],
   "source": [
    "import numpy as np\n",
    "import matplotlib.pyplot as plt\n",
    "import matplotlib.cm as cm\n",
    "from matplotlib.colors import Normalize\n",
    "import pandas as pd\n",
    "from itertools import product\n",
    "from typing import Tuple, Dict"
   ]
  },
  {
   "cell_type": "markdown",
   "metadata": {},
   "source": [
    "# Gridworld"
   ]
  },
  {
   "cell_type": "markdown",
   "metadata": {},
   "source": [
    "In Gridworld, we need an agent to move from an initial position to an end position (blue and red positions in the drawing below)"
   ]
  },
  {
   "cell_type": "code",
   "execution_count": 2,
   "metadata": {},
   "outputs": [
    {
     "data": {
      "image/png": "[encoded data removed]",
      "text/plain": [
       "<Figure size 432x432 with 2 Axes>"
      ]
     },
     "metadata": {
      "needs_background": "light"
     },
     "output_type": "display_data"
    }
   ],
   "source": [
    "GRID_SIZE = 4\n",
    "START_VALUE = -1\n",
    "END_VALUE = 1\n",
    "START_POS = (0,0)\n",
    "END_POS = (3,3)\n",
    "\n",
    "grid = np.zeros((GRID_SIZE, GRID_SIZE))\n",
    "grid[START_POS] = START_VALUE\n",
    "grid[END_POS] = END_VALUE\n",
    "\n",
    "def visualize_grid(grid):\n",
    "    fig, ax = plt.subplots(1,1, figsize=(6,6))\n",
    "    ax.set_xlim(0,GRID_SIZE)\n",
    "    ax.set_ylim(GRID_SIZE,0)\n",
    "    ax.set_xticks(list(range(GRID_SIZE)))\n",
    "    ax.set_yticks(list(range(GRID_SIZE)))\n",
    "    ax.imshow(grid, extent=(0, GRID_SIZE, GRID_SIZE, 0), cmap='seismic')\n",
    "    ax.grid(True, 'major', 'both')\n",
    "    ax.xaxis.tick_top()\n",
    "    fig.colorbar(cm.ScalarMappable(cmap='seismic', norm=Normalize(-1,1)), \n",
    "        ax=ax, ticks=[-1, 0, 1])\n",
    "    plt.show()\n",
    "\n",
    "visualize_grid(grid)"
   ]
  },
  {
   "cell_type": "markdown",
   "metadata": {},
   "source": [
    "We need the agent to move from the blue position to the red position using the following actions:"
   ]
  },
  {
   "cell_type": "code",
   "execution_count": 3,
   "metadata": {},
   "outputs": [],
   "source": [
    "from enum import Enum\n",
    "\n",
    "class Action(Enum):\n",
    "    UP = 0\n",
    "    RIGHT = 1\n",
    "    DOWN = 2\n",
    "    LEFT = 3"
   ]
  },
  {
   "cell_type": "markdown",
   "metadata": {},
   "source": [
    "The rewards are +1 for getting to the end, -1 for trying to move out of bounds, 0 for any intermediate move."
   ]
  },
  {
   "cell_type": "code",
   "execution_count": 18,
   "metadata": {},
   "outputs": [],
   "source": [
    "CURRENT_STATE = START_POS\n",
    "\n",
    "def in_bounds(y,x):\n",
    "    return 0 <= x < GRID_SIZE and 0 <= y < GRID_SIZE\n",
    "\n",
    "def reached_target(st1):\n",
    "    return st1 == END_POS\n",
    "\n",
    "def get_reward(st, a, st1):\n",
    "    if st == st1:\n",
    "        # Agent stayed still or tried to go of bounds\n",
    "        return -1\n",
    "    if reached_target(st1):\n",
    "        # Victory!\n",
    "        return 1\n",
    "    else:\n",
    "        # Intermediate action\n",
    "        return 0\n",
    "\n",
    "def execute_action(st:Tuple, action:Action):\n",
    "    if action == Action.UP:\n",
    "        st_1 = (st[0]+1, st[1])\n",
    "    elif action == Action.DOWN:\n",
    "        st_1 = (st[0]-1, st[1])\n",
    "    elif action == Action.LEFT:\n",
    "        st_1 = (st[0], st[1]-1)\n",
    "    elif action == Action.RIGHT:\n",
    "        st_1 = (st[0], st[1]+1)\n",
    "    if not in_bounds(*st_1):\n",
    "        st_1 = st\n",
    "    rt = get_reward(st, action, st_1)\n",
    "    return st_1, rt\n"
   ]
  },
  {
   "cell_type": "markdown",
   "metadata": {},
   "source": [
    "Suppose that the policy for the agent is such that a random action is selected each time."
   ]
  },
  {
   "cell_type": "code",
   "execution_count": 19,
   "metadata": {},
   "outputs": [],
   "source": [
    "random_policy = {\n",
    "    (si, sj): {\n",
    "        Action.UP: 1/4,\n",
    "        Action.RIGHT: 1/4,\n",
    "        Action.DOWN: 1/4,\n",
    "        Action.LEFT: 1/4 \n",
    "    }\n",
    "    for si, sj in product(range(GRID_SIZE), repeat=2)\n",
    "}"
   ]
  },
  {
   "cell_type": "markdown",
   "metadata": {},
   "source": [
    "We implement a function to play a whole episode according to a policy and return the sequence of states, actions and rewards"
   ]
  },
  {
   "cell_type": "code",
   "execution_count": 58,
   "metadata": {},
   "outputs": [],
   "source": [
    "def select_action_according_to_policy(current_state: Tuple[int,int], \n",
    "        policy:Dict[Tuple[int,int], Dict[Action, float]])-> Action:\n",
    "    max_val = max(policy[current_state].values())\n",
    "    # Randomly break ties\n",
    "    keys = [key for key, value in policy[current_state].items() if value == max_val]\n",
    "    choice = np.random.choice(keys)\n",
    "    return choice\n",
    "\n",
    "def select_random_action(current_state: Tuple[int,int], \n",
    "        policy:Dict[Tuple[int,int], Dict[Action, float]])-> Action:\n",
    "    return np.random.choice(list(policy[current_state].keys()))\n",
    "\n",
    "def play_episode(policy:Dict[Tuple[int, int], Dict[Action,float]], \n",
    "        start_state:Tuple[int, int], epsilon:float=0.1):\n",
    "    states = [START_POS]\n",
    "    actions = []\n",
    "    rewards = []\n",
    "    current_state = start_state\n",
    "    while not reached_target(current_state):\n",
    "        # Epsilon-greedy selection\n",
    "        if np.random.random() <= epsilon:\n",
    "            action = select_random_action(current_state, policy)\n",
    "        else:\n",
    "            action = select_action_according_to_policy(current_state, policy)\n",
    "        next_state, reward = execute_action(current_state, action)\n",
    "        current_state = next_state\n",
    "        states.append(next_state)\n",
    "        actions.append(action)\n",
    "        rewards.append(reward)\n",
    "    return states, actions, rewards"
   ]
  },
  {
   "cell_type": "markdown",
   "metadata": {},
   "source": [
    "We use a **first-visit Monte Carlo method** to approximate the state-value function and the action-value function drawing samples from the space of possible games."
   ]
  },
  {
   "cell_type": "code",
   "execution_count": 83,
   "metadata": {},
   "outputs": [
    {
     "data": {
      "image/png": "[encoded data removed]",
      "text/plain": [
       "<Figure size 432x432 with 2 Axes>"
      ]
     },
     "metadata": {
      "needs_background": "light"
     },
     "output_type": "display_data"
    }
   ],
   "source": [
    "def visualize_Vs(Vs):\n",
    "    fig, ax = plt.subplots(1,1, figsize=(6,6))\n",
    "    ax.set_xlim(0,GRID_SIZE)\n",
    "    ax.set_ylim(GRID_SIZE,0)\n",
    "    ax.set_xticks(list(range(GRID_SIZE)))\n",
    "    ax.set_yticks(list(range(GRID_SIZE)))\n",
    "    ax.imshow(Vs, extent=(0, GRID_SIZE, GRID_SIZE, 0), cmap='plasma')\n",
    "    ax.grid(True, 'major', 'both')\n",
    "    ax.xaxis.tick_top()\n",
    "    fig.colorbar(cm.ScalarMappable(cmap='plasma', norm=Normalize(np.amin(Vs), np.amax(Vs))), \n",
    "        ax=ax)\n",
    "    for i, el in enumerate(Vs.flatten()):\n",
    "        ax.text(i % GRID_SIZE+0.35, i // GRID_SIZE+0.5, '{:.2f}'.format(el), fontdict={\n",
    "            'color': 'white', 'backgroundcolor': 'black'\n",
    "        })\n",
    "    plt.show()\n",
    "\n",
    "def first_visit_MC_V(policy:Dict[Tuple[int, int], Dict[Action,float]], \n",
    "        episodes_to_play:int=1000, discount=0.9):\n",
    "    states = policy.keys()\n",
    "    V = {st: np.random.random() for st in states}\n",
    "    Returns = {st: [] for st in states}\n",
    "    for i in range(episodes_to_play):\n",
    "        sts, acts, rews = play_episode(policy, START_POS)\n",
    "        cumulative_reward = 0\n",
    "        # Remove last state\n",
    "        sts.pop()\n",
    "        for step in range(len(rews)-1, 0, -1):\n",
    "            cumulative_reward = discount*cumulative_reward + rews[step]\n",
    "            if not sts[step] in sts[:step]:\n",
    "                Returns[sts[step]].append(cumulative_reward) # The cumulative reward is appended only once for the first visit method\n",
    "                V[sts[step]] = np.mean(Returns[sts[step]])   # Compute average of rewards for V\n",
    "    return V\n",
    "\n",
    "\n",
    "Vs = first_visit_MC_V(random_policy, episodes_to_play=1000)\n",
    "Vs_array = np.array([[Vs[i,j] for j in range(GRID_SIZE)] for i in range(GRID_SIZE)])\n",
    "visualize_Vs(Vs_array)"
   ]
  },
  {
   "cell_type": "markdown",
   "metadata": {},
   "source": [
    "Now we could move an agent from start to end based on always choosing the next maximum value."
   ]
  }
 ],
 "metadata": {
  "interpreter": {
   "hash": "ac7a45bdc5a3df71ccc95c77502ad70b449194eee2e6719931ab0f9b60e7f47c"
  },
  "kernelspec": {
   "display_name": "Python 3.10.0",
   "language": "python",
   "name": "python3"
  },
  "language_info": {
   "codemirror_mode": {
    "name": "ipython",
    "version": 3
   },
   "file_extension": ".py",
   "mimetype": "text/x-python",
   "name": "python",
   "nbconvert_exporter": "python",
   "pygments_lexer": "ipython3",
   "version": "3.10.0"
  },
  "orig_nbformat": 4
 },
 "nbformat": 4,
 "nbformat_minor": 2
}
