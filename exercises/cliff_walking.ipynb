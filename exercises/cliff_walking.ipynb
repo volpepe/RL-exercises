{
 "cells": [
  {
   "cell_type": "code",
   "execution_count": 1,
   "metadata": {},
   "outputs": [],
   "source": [
    "import numpy as np\n",
    "import pandas as pd\n",
    "import matplotlib.pyplot as plt\n",
    "from matplotlib.patches import Rectangle\n",
    "from typing import Tuple, Dict\n",
    "from enum import Enum\n",
    "from itertools import product"
   ]
  },
  {
   "cell_type": "markdown",
   "metadata": {},
   "source": [
    "# Cliff Walking\n",
    "\n",
    "We need an agent to move from a starting position to an ending position avoiding a cliff. \n",
    "- Each step has a reward of -1\n",
    "- Moving on the cliff area has a reward of -100 and brings the agent immediately in the starting position.\n",
    "\n",
    "We solve this problem by letting the agent learn using **Temporal Difference (TD)** methods, in particular **SARSA**, which is an *on-policy* method, and **Q-learning**, which is an *off-policy* method."
   ]
  },
  {
   "cell_type": "markdown",
   "metadata": {},
   "source": [
    "First of all we create the cliff:"
   ]
  },
  {
   "cell_type": "code",
   "execution_count": 71,
   "metadata": {},
   "outputs": [
    {
     "data": {
      "image/png": "[encoded data removed]",
      "text/plain": [
       "<Figure size 720x1008 with 1 Axes>"
      ]
     },
     "metadata": {
      "needs_background": "light"
     },
     "output_type": "display_data"
    }
   ],
   "source": [
    "GRID_SIZE = (5, 15) # 5 rows, 15 columns\n",
    "THE_CLIFF = [(3, 1), (5, 14)]\n",
    "\n",
    "INITIAL_POSITION = (4,0) # In numpy coordinates\n",
    "END_POSITION = (4,14)\n",
    "\n",
    "START_VALUE = 2\n",
    "END_VALUE = -0.7\n",
    "CLIFF_VALUE = -2\n",
    "\n",
    "GRID = np.zeros(GRID_SIZE)\n",
    "GRID[INITIAL_POSITION] = START_VALUE\n",
    "GRID[END_POSITION] = END_VALUE\n",
    "GRID[THE_CLIFF[0][0]:THE_CLIFF[1][0], THE_CLIFF[0][1]:THE_CLIFF[1][1]] = CLIFF_VALUE\n",
    "\n",
    "def draw_cliff_gridworld():\n",
    "    fig, ax = plt.subplots(1,1,figsize=(10,14))\n",
    "    ax.set_xlim(0, GRID_SIZE[1])\n",
    "    ax.set_ylim(GRID_SIZE[0],0)\n",
    "    ax.set_xticks(list(range(GRID_SIZE[1])))\n",
    "    ax.set_yticks(list(range(GRID_SIZE[0])))\n",
    "    ax.imshow(GRID, extent=(0, GRID_SIZE[1], GRID_SIZE[0], 0), cmap='seismic')\n",
    "    ax.grid(True, 'major', 'both')\n",
    "    ax.xaxis.tick_top()\n",
    "    plt.show()\n",
    "\n",
    "draw_cliff_gridworld()"
   ]
  },
  {
   "cell_type": "markdown",
   "metadata": {},
   "source": [
    "The dark blue area is the cliff, while the start and end positions are the red and light blue squares."
   ]
  },
  {
   "cell_type": "markdown",
   "metadata": {},
   "source": [
    "The agent can move in all 4 directions:"
   ]
  },
  {
   "cell_type": "code",
   "execution_count": 3,
   "metadata": {},
   "outputs": [],
   "source": [
    "class Action(Enum):\n",
    "    UP = 0\n",
    "    RIGHT = 1\n",
    "    DOWN = 2\n",
    "    LEFT = 3"
   ]
  },
  {
   "cell_type": "markdown",
   "metadata": {},
   "source": [
    "We can say that states are the poisitions on the grid of the agent, so in total there are $W \\times H \\times 4$ state-action pairs.\n",
    "\n",
    "The reward is -1 for any move, except for moves that lead into the cliff. Those moves also bring the agent back to the beginning. Moves that bring the agent out of bounds are also penalized with a -20 and not executed (i.e. the state remains the same)."
   ]
  },
  {
   "cell_type": "code",
   "execution_count": 48,
   "metadata": {},
   "outputs": [],
   "source": [
    "st_0 = INITIAL_POSITION\n",
    "\n",
    "def in_bounds(y,x):\n",
    "    return 0 <= x < GRID_SIZE[1] and 0 <= y < GRID_SIZE[0]\n",
    "\n",
    "def in_cliff(y,x):\n",
    "    return THE_CLIFF[0][0] <= y < THE_CLIFF[1][0] and \\\n",
    "        THE_CLIFF[0][1] <= x < THE_CLIFF[1][1]\n",
    "\n",
    "def reached_target(st1):\n",
    "    return st1 == END_POSITION\n",
    "\n",
    "def get_reward(st, a, st1):\n",
    "    # Rewards for cliff are managed externally\n",
    "    if st == st1:\n",
    "        # Agent tried to go of bounds\n",
    "        return -20\n",
    "    elif reached_target(st1):\n",
    "        # Agent reached the ending position\n",
    "        return 0\n",
    "    else:\n",
    "        # Intermediate action\n",
    "        return -1\n",
    "\n",
    "def execute_action(st:Tuple, action:Action):\n",
    "    if action == Action.UP:\n",
    "        st_1 = (st[0]-1, st[1])\n",
    "    elif action == Action.DOWN:\n",
    "        st_1 = (st[0]+1, st[1])\n",
    "    elif action == Action.LEFT:\n",
    "        st_1 = (st[0], st[1]-1)\n",
    "    elif action == Action.RIGHT:\n",
    "        st_1 = (st[0], st[1]+1)\n",
    "    if not in_bounds(*st_1):\n",
    "        # Discard action\n",
    "        st_1 = st\n",
    "    if in_cliff(*st_1):\n",
    "        # Bring agent to beginning\n",
    "        st_1 = INITIAL_POSITION\n",
    "        # Reward is exceptional: it's -100\n",
    "        rt = -100\n",
    "    else:\n",
    "        rt = get_reward(st, action, st_1)\n",
    "    return st_1, rt"
   ]
  },
  {
   "cell_type": "markdown",
   "metadata": {},
   "source": [
    "## SARSA"
   ]
  },
  {
   "cell_type": "markdown",
   "metadata": {},
   "source": [
    "One way we can obtain the optimal policy for the problem is to use SARSA, which is an on-policy control method (meaning that the policy that decides the action, so the exploitation policy, is also the policy that is used for updating the Q-values, so the exploration policy). We implement it here:"
   ]
  },
  {
   "cell_type": "code",
   "execution_count": 73,
   "metadata": {},
   "outputs": [],
   "source": [
    "def choose_e_greedy_A_from_Q(S, Q, epsilon) -> Action:\n",
    "    # Check if we take a random action according to epsilon\n",
    "    if np.random.random() < epsilon:\n",
    "        return np.random.choice(Action)\n",
    "    # Otherwise, be greedy wrt Q\n",
    "    return get_greedy_A_from_Q(S, Q)\n",
    "\n",
    "def get_greedy_A_from_Q(S, Q) -> Action:\n",
    "    q_values = {a: Q[(S[0],S[1],a)] for a in Action}\n",
    "    # Choose maximum and randomly break ties\n",
    "    best_action = max(q_values.keys(), key = lambda x: q_values[x])\n",
    "    return best_action\n",
    "\n",
    "def SARSA_cliff_gridworld(episodes=10000, step_size=0.7, discount=1, \n",
    "        epsilon=0.1, verbose=False):\n",
    "    # Initialize starting q value arbitrarily except for ending position,\n",
    "    # where Q(terminal, .) = 0\n",
    "    initial_q_value = {\n",
    "        (sy, sx, a): np.random.random()   \n",
    "            for sx in range(GRID_SIZE[1]) \n",
    "            for sy in range(GRID_SIZE[0])\n",
    "            for a in Action\n",
    "            if (sy, sx) != END_POSITION\n",
    "    }\n",
    "    for end in [tuple(list(END_POSITION) + [a]) for a in Action]:\n",
    "        initial_q_value[end] = 0\n",
    "    Q = initial_q_value\n",
    "\n",
    "    # Loop for each episode\n",
    "    for ep in range(episodes):\n",
    "        # Initialize S\n",
    "        S = INITIAL_POSITION\n",
    "        # Choose first action A with e-greedy policy from Q\n",
    "        A = choose_e_greedy_A_from_Q(S, Q, epsilon)\n",
    "        while not S == END_POSITION: # While we are not in the terminal state\n",
    "            if verbose:\n",
    "                print(f\"At {S}, do {A}\")\n",
    "            # Execute A and obtain the new state and reward\n",
    "            S_1, R = execute_action(S, A)\n",
    "            # Execute the action at the following step using the same e-greedy policy\n",
    "            A_1 = choose_e_greedy_A_from_Q(S_1, Q, epsilon)\n",
    "            # We have the whole transition: S A R S_1 A_1\n",
    "            # It's time to update Q\n",
    "            index = tuple(list(S) + [A])\n",
    "            next_index = tuple(list(S_1) + [A_1])\n",
    "            error = R + discount*Q[next_index] - Q[index]\n",
    "            Q[index] += step_size*error\n",
    "            if verbose:\n",
    "                print(f\"     --> get {R}, go in {S_1} where selects {A_1}\")\n",
    "                print(f\"         error: {error}\")\n",
    "            # Change state\n",
    "            S = S_1\n",
    "            # Select next action\n",
    "            A = A_1 \n",
    "    \n",
    "    return Q\n",
    "\n",
    "q = SARSA_cliff_gridworld(episodes=100000)"
   ]
  },
  {
   "cell_type": "markdown",
   "metadata": {},
   "source": [
    "Here, we use a function to display the optimal path following the obtained q-values."
   ]
  },
  {
   "cell_type": "code",
   "execution_count": 74,
   "metadata": {},
   "outputs": [],
   "source": [
    "def play_using_q(Q):\n",
    "    states = []\n",
    "    actions = []\n",
    "    S = INITIAL_POSITION\n",
    "    A = choose_e_greedy_A_from_Q(S, Q, epsilon=0)\n",
    "    while not S == END_POSITION:\n",
    "        states.append(S)\n",
    "        actions.append(A)\n",
    "        S, _ = execute_action(S, A)\n",
    "        A = choose_e_greedy_A_from_Q(S, Q, epsilon=0)\n",
    "    states.append(S)\n",
    "    return states, actions\n",
    "\n",
    "states, actions = play_using_q(q)"
   ]
  },
  {
   "cell_type": "code",
   "execution_count": 75,
   "metadata": {},
   "outputs": [
    {
     "data": {
      "image/png": "[encoded data removed]",
      "text/plain": [
       "<Figure size 720x1008 with 1 Axes>"
      ]
     },
     "metadata": {
      "needs_background": "light"
     },
     "output_type": "display_data"
    }
   ],
   "source": [
    "def draw_movements(states, title='GRAPH'):\n",
    "    def get_center(s):\n",
    "        return s[0] + 0.5, s[1] + 0.5\n",
    "    fig, ax = plt.subplots(1,1,figsize=(10,14))\n",
    "    ax.set_xlim(0, GRID_SIZE[1])\n",
    "    ax.set_ylim(GRID_SIZE[0],0)\n",
    "    ax.set_xticks(list(range(GRID_SIZE[1])))\n",
    "    ax.set_yticks(list(range(GRID_SIZE[0])))\n",
    "    ax.imshow(GRID, extent=(0, GRID_SIZE[1], GRID_SIZE[0], 0), cmap='seismic')\n",
    "    xs = []; ys = []\n",
    "    for s in states:\n",
    "        y, x = get_center(s); xs.append(x); ys.append(y)\n",
    "    ax.plot(xs, ys, 'bo--')\n",
    "    ax.grid(True, 'major', 'both')\n",
    "    ax.xaxis.tick_top()\n",
    "    plt.title(title)\n",
    "    plt.show()\n",
    "\n",
    "draw_movements(states, title='SARSA')"
   ]
  },
  {
   "cell_type": "markdown",
   "metadata": {},
   "source": [
    "The agent is mindful of the actions he is going to take next, so he keeps away from the cliff."
   ]
  },
  {
   "cell_type": "markdown",
   "metadata": {},
   "source": [
    "## Q-learning\n",
    "\n",
    "Q-learning is an alternative: it's an **off-policy** control technique where the agent updates its value based not on its policy but on a greedy decision on its current Q estimate."
   ]
  },
  {
   "cell_type": "code",
   "execution_count": 76,
   "metadata": {},
   "outputs": [],
   "source": [
    "def Q_learning_cliff_gridworld(episodes=10000, step_size=0.7, discount=1, \n",
    "        epsilon=0.1, verbose=False):\n",
    "    # Initialize starting q value arbitrarily except for ending position,\n",
    "    # where Q(terminal, .) = 0\n",
    "    initial_q_value = {\n",
    "        (sy, sx, a): np.random.random()   \n",
    "            for sx in range(GRID_SIZE[1]) \n",
    "            for sy in range(GRID_SIZE[0])\n",
    "            for a in Action\n",
    "            if (sy, sx) != END_POSITION\n",
    "    }\n",
    "    for end in [tuple(list(END_POSITION) + [a]) for a in Action]:\n",
    "        initial_q_value[end] = 0\n",
    "    Q = initial_q_value\n",
    "\n",
    "    # Loop for each episode\n",
    "    for ep in range(episodes):\n",
    "        # Initialize S\n",
    "        S = INITIAL_POSITION\n",
    "        while not S == END_POSITION: # While we are not in the terminal state\n",
    "            # Choose first action A with e-greedy policy from Q\n",
    "            A = choose_e_greedy_A_from_Q(S, Q, epsilon)\n",
    "            if verbose:\n",
    "                print(f\"At {S}, do {A}\")\n",
    "            # Execute A and obtain the new state and reward\n",
    "            S_1, R = execute_action(S, A)\n",
    "            # THIS IS THE PART THAT IS DIFFERENT FROM SARSA:\n",
    "            # Obtain the best action at S_1 based on the current estimate of Q\n",
    "            A_1 = get_greedy_A_from_Q(S, Q)\n",
    "            # It's time to update Q\n",
    "            index = tuple(list(S) + [A])\n",
    "            next_index = tuple(list(S_1) + [A_1])\n",
    "            error = R + discount*Q[next_index] - Q[index]\n",
    "            Q[index] += step_size*error\n",
    "            if verbose:\n",
    "                print(f\"     --> get {R}, go in {S_1} where best action is {A_1}\")\n",
    "                print(f\"         error: {error}\")\n",
    "            # Change state\n",
    "            S = S_1\n",
    "            # Select next action\n",
    "            A = A_1 \n",
    "    \n",
    "    return Q\n",
    "\n",
    "q_off = Q_learning_cliff_gridworld(episodes=100000)"
   ]
  },
  {
   "cell_type": "code",
   "execution_count": 77,
   "metadata": {},
   "outputs": [
    {
     "data": {
      "image/png": "[encoded data removed]",
      "text/plain": [
       "<Figure size 720x1008 with 1 Axes>"
      ]
     },
     "metadata": {
      "needs_background": "light"
     },
     "output_type": "display_data"
    }
   ],
   "source": [
    "states, actions = play_using_q(q_off)\n",
    "draw_movements(states, title='Q-Learning')"
   ]
  },
  {
   "cell_type": "markdown",
   "metadata": {},
   "source": [
    "Here the agent does not care about which actions it's going to do next, so he blindly goes for the fastest path that runs at the limit of the cliff, even though with its policy, especially with the stochastic element of $\\epsilon$-greedy, the next move may be at any time to fall into the cliff. \n",
    "\n",
    "Depending on the application, one could prefer SARSA or Q-Learning as a control method."
   ]
  }
 ],
 "metadata": {
  "interpreter": {
   "hash": "ac7a45bdc5a3df71ccc95c77502ad70b449194eee2e6719931ab0f9b60e7f47c"
  },
  "kernelspec": {
   "display_name": "Python 3.10.0",
   "language": "python",
   "name": "python3"
  },
  "language_info": {
   "codemirror_mode": {
    "name": "ipython",
    "version": 3
   },
   "file_extension": ".py",
   "mimetype": "text/x-python",
   "name": "python",
   "nbconvert_exporter": "python",
   "pygments_lexer": "ipython3",
   "version": "3.10.0"
  },
  "orig_nbformat": 4
 },
 "nbformat": 4,
 "nbformat_minor": 2
}
