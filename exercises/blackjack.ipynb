{
 "cells": [
  {
   "cell_type": "code",
   "execution_count": 2,
   "metadata": {},
   "outputs": [],
   "source": [
    "import numpy as np\n",
    "import pandas as pd\n",
    "from typing import Tuple, Dict\n",
    "from enum import Enum\n",
    "from itertools import product"
   ]
  },
  {
   "cell_type": "markdown",
   "metadata": {},
   "source": [
    "# Blackjack"
   ]
  },
  {
   "cell_type": "markdown",
   "metadata": {},
   "source": [
    "The cards to be used in Blackjack are:"
   ]
  },
  {
   "cell_type": "code",
   "execution_count": 19,
   "metadata": {},
   "outputs": [],
   "source": [
    "class Card(Enum):\n",
    "    ACE = 1,\n",
    "    TWO = 2,\n",
    "    THREE = 3,\n",
    "    FOUR = 4,\n",
    "    FIVE = 5,\n",
    "    SIX = 6,\n",
    "    SEVEN = 7,\n",
    "    EIGHT = 8,\n",
    "    NINE = 9,\n",
    "    FACE = 10   # This groups 10, Jack, Queen and King whose value is the same\n",
    "\n",
    "card_values = {\n",
    "    Card.ACE: [1, 11],\n",
    "    Card.TWO: 2,\n",
    "    Card.THREE: 3,\n",
    "    Card.FOUR: 4,\n",
    "    Card.FIVE: 5,\n",
    "    Card.SIX: 6,\n",
    "    Card.SEVEN: 7,\n",
    "    Card.EIGHT: 8,\n",
    "    Card.NINE: 9,\n",
    "    Card.FACE: 10   \n",
    "}"
   ]
  },
  {
   "cell_type": "markdown",
   "metadata": {},
   "source": [
    "Both the player and the dealer are given 2 cards. The first one is shown, the second is face down. Then, the player starts requesting cards and what matters is the sum of the values. Therefore, a state in our system is made by:\n",
    "- The current sum of cards of the player. Note that below 11 we don't need to make decisions: we simply draw the next card. So this sum is valuable between 12 and 21.\n",
    "- The card shown by the dealer. It can be an ace or any number up to 10.\n",
    "\n",
    "We also add an indicator for **usable aces**, which are aces the player can use as a 11 without going bust"
   ]
  },
  {
   "cell_type": "code",
   "execution_count": 22,
   "metadata": {},
   "outputs": [
    {
     "name": "stdout",
     "output_type": "stream",
     "text": [
      "200\n"
     ]
    }
   ],
   "source": [
    "states = [{\n",
    "        'player_sum': player_sum, \n",
    "        'dealer_card': dealer_card, \n",
    "        'usable_ace': usable_ace\n",
    "    }\n",
    "    for player_sum in range(12,21+1)\n",
    "    for dealer_card in Card\n",
    "    for usable_ace in [True, False]\n",
    "]\n",
    "\n",
    "print(len(states))"
   ]
  },
  {
   "cell_type": "markdown",
   "metadata": {},
   "source": [
    "Player's actions are to hit or stick"
   ]
  },
  {
   "cell_type": "code",
   "execution_count": 23,
   "metadata": {},
   "outputs": [],
   "source": [
    "class Action(Enum):\n",
    "    HIT = 0,\n",
    "    STICK = 1"
   ]
  },
  {
   "cell_type": "markdown",
   "metadata": {},
   "source": [
    "The policy for the player is to only stick at 20 or 21."
   ]
  },
  {
   "cell_type": "code",
   "execution_count": 25,
   "metadata": {},
   "outputs": [],
   "source": [
    "player_policy = {\n",
    "    (s['player_sum'], s['dealer_card'], s['usable_ace']): {\n",
    "        Action.HIT: 1*s['player_sum'] < 20,\n",
    "        Action.STICK: 1*s['player_sum'] >= 20\n",
    "    }\n",
    "    for s in states\n",
    "}"
   ]
  },
  {
   "cell_type": "markdown",
   "metadata": {},
   "source": [
    "We define a function for playing an episode:"
   ]
  },
  {
   "cell_type": "code",
   "execution_count": 45,
   "metadata": {},
   "outputs": [
    {
     "name": "stderr",
     "output_type": "stream",
     "text": [
      "C:\\Users\\Volpe\\AppData\\Local\\Temp\\ipykernel_16116\\2038670754.py:50: VisibleDeprecationWarning: Creating an ndarray from ragged nested sequences (which is a list-or-tuple of lists-or-tuples-or ndarrays with different lengths or shapes) is deprecated. If you meant to do this, you must specify 'dtype=object' when creating the ndarray.\n",
      "  player_sum = get_value(player_cards, aces_as_11=np.where(np.array(player_cards) == Card.ACE))\n"
     ]
    },
    {
     "ename": "TypeError",
     "evalue": "unhashable type: 'list'",
     "output_type": "error",
     "traceback": [
      "\u001b[1;31m---------------------------------------------------------------------------\u001b[0m",
      "\u001b[1;31mTypeError\u001b[0m                                 Traceback (most recent call last)",
      "\u001b[1;32mf:\\Dump\\Coding\\rl-exercises\\exercises\\blackjack.ipynb Cell 12'\u001b[0m in \u001b[0;36m<cell line: 70>\u001b[1;34m()\u001b[0m\n\u001b[0;32m     <a href='vscode-notebook-cell:/f%3A/Dump/Coding/rl-exercises/exercises/blackjack.ipynb#ch0000013?line=51'>52</a>\u001b[0m     \u001b[39mprint\u001b[39m(player_cards)\n\u001b[0;32m     <a href='vscode-notebook-cell:/f%3A/Dump/Coding/rl-exercises/exercises/blackjack.ipynb#ch0000013?line=52'>53</a>\u001b[0m     \u001b[39m# states = [START_POS]\u001b[39;00m\n\u001b[0;32m     <a href='vscode-notebook-cell:/f%3A/Dump/Coding/rl-exercises/exercises/blackjack.ipynb#ch0000013?line=53'>54</a>\u001b[0m     \u001b[39m# actions = []\u001b[39;00m\n\u001b[0;32m     <a href='vscode-notebook-cell:/f%3A/Dump/Coding/rl-exercises/exercises/blackjack.ipynb#ch0000013?line=54'>55</a>\u001b[0m     \u001b[39m# rewards = []\u001b[39;00m\n\u001b[1;32m   (...)\u001b[0m\n\u001b[0;32m     <a href='vscode-notebook-cell:/f%3A/Dump/Coding/rl-exercises/exercises/blackjack.ipynb#ch0000013?line=66'>67</a>\u001b[0m     \u001b[39m#     rewards.append(reward)\u001b[39;00m\n\u001b[0;32m     <a href='vscode-notebook-cell:/f%3A/Dump/Coding/rl-exercises/exercises/blackjack.ipynb#ch0000013?line=67'>68</a>\u001b[0m     \u001b[39m# return states, actions, rewards\u001b[39;00m\n\u001b[1;32m---> <a href='vscode-notebook-cell:/f%3A/Dump/Coding/rl-exercises/exercises/blackjack.ipynb#ch0000013?line=69'>70</a>\u001b[0m play_episode(player_policy)\n",
      "\u001b[1;32mf:\\Dump\\Coding\\rl-exercises\\exercises\\blackjack.ipynb Cell 12'\u001b[0m in \u001b[0;36mplay_episode\u001b[1;34m(policy, epsilon)\u001b[0m\n\u001b[0;32m     <a href='vscode-notebook-cell:/f%3A/Dump/Coding/rl-exercises/exercises/blackjack.ipynb#ch0000013?line=47'>48</a>\u001b[0m     new_card \u001b[39m=\u001b[39m deal_cards(num\u001b[39m=\u001b[39m\u001b[39m1\u001b[39m)\n\u001b[0;32m     <a href='vscode-notebook-cell:/f%3A/Dump/Coding/rl-exercises/exercises/blackjack.ipynb#ch0000013?line=48'>49</a>\u001b[0m     player_cards\u001b[39m.\u001b[39mappend(new_card)\n\u001b[1;32m---> <a href='vscode-notebook-cell:/f%3A/Dump/Coding/rl-exercises/exercises/blackjack.ipynb#ch0000013?line=49'>50</a>\u001b[0m     player_sum \u001b[39m=\u001b[39m get_value(player_cards, aces_as_11\u001b[39m=\u001b[39;49mnp\u001b[39m.\u001b[39;49mwhere(np\u001b[39m.\u001b[39;49marray(player_cards) \u001b[39m==\u001b[39;49m Card\u001b[39m.\u001b[39;49mACE))\n\u001b[0;32m     <a href='vscode-notebook-cell:/f%3A/Dump/Coding/rl-exercises/exercises/blackjack.ipynb#ch0000013?line=50'>51</a>\u001b[0m \u001b[39mprint\u001b[39m(player_sum)\n\u001b[0;32m     <a href='vscode-notebook-cell:/f%3A/Dump/Coding/rl-exercises/exercises/blackjack.ipynb#ch0000013?line=51'>52</a>\u001b[0m \u001b[39mprint\u001b[39m(player_cards)\n",
      "\u001b[1;32mf:\\Dump\\Coding\\rl-exercises\\exercises\\blackjack.ipynb Cell 12'\u001b[0m in \u001b[0;36mget_value\u001b[1;34m(cards, aces_as_11)\u001b[0m\n\u001b[0;32m     <a href='vscode-notebook-cell:/f%3A/Dump/Coding/rl-exercises/exercises/blackjack.ipynb#ch0000013?line=22'>23</a>\u001b[0m             sum_no_aces \u001b[39m+\u001b[39m\u001b[39m=\u001b[39m \u001b[39m1\u001b[39m\n\u001b[0;32m     <a href='vscode-notebook-cell:/f%3A/Dump/Coding/rl-exercises/exercises/blackjack.ipynb#ch0000013?line=23'>24</a>\u001b[0m     \u001b[39melse\u001b[39;00m:\n\u001b[1;32m---> <a href='vscode-notebook-cell:/f%3A/Dump/Coding/rl-exercises/exercises/blackjack.ipynb#ch0000013?line=24'>25</a>\u001b[0m         sum_no_aces \u001b[39m+\u001b[39m\u001b[39m=\u001b[39m card_values[c]\n\u001b[0;32m     <a href='vscode-notebook-cell:/f%3A/Dump/Coding/rl-exercises/exercises/blackjack.ipynb#ch0000013?line=25'>26</a>\u001b[0m \u001b[39mreturn\u001b[39;00m sum_no_aces\n",
      "\u001b[1;31mTypeError\u001b[0m: unhashable type: 'list'"
     ]
    }
   ],
   "source": [
    "def select_action_according_to_policy(current_state: Tuple[int,int], \n",
    "        policy:Dict[Tuple[int,int], Dict[Action, float]])-> Action:\n",
    "    max_val = max(policy[current_state].values())\n",
    "    # Randomly break ties\n",
    "    keys = [key for key, value in policy[current_state].items() if value == max_val]\n",
    "    choice = np.random.choice(keys)\n",
    "    return choice\n",
    "\n",
    "def select_random_action(current_state: Tuple[int,int], \n",
    "        policy:Dict[Tuple[int,int], Dict[Action, float]])-> Action:\n",
    "    return np.random.choice(list(policy[current_state].keys()))\n",
    "\n",
    "def deal_cards(num=1):\n",
    "    return list(np.random.choice(Card, num))\n",
    "\n",
    "def get_value(cards, aces_as_11=set()):\n",
    "    sum_no_aces = 0\n",
    "    for i, c in enumerate(cards):\n",
    "        if c == Card.ACE:\n",
    "            if i in aces_as_11:\n",
    "                sum_no_aces += 11\n",
    "            else:\n",
    "                sum_no_aces += 1\n",
    "        else:\n",
    "            sum_no_aces += card_values[c]\n",
    "    return sum_no_aces\n",
    "\n",
    "def play_episode(policy:Dict[Tuple[int, int], Dict[Action,float]], \n",
    "        epsilon:float=0.1):\n",
    "    player_cards = deal_cards(num=2)\n",
    "    dealer_cards = deal_cards(num=2)\n",
    "    dealer_visible = dealer_cards[0]\n",
    "    states = []\n",
    "    actions = []\n",
    "    rewards = []\n",
    "    # If the player has 21, it has won unless the dealer also has 21\n",
    "    player_sum = get_value(player_cards, aces_as_11=np.where(np.array(player_cards) == Card.ACE))\n",
    "    if player_sum == 21:\n",
    "        states.append((21, dealer_visible, True))\n",
    "        actions.append(Action.STICK)\n",
    "        if not get_value(dealer_cards, aces_as_11=np.where(np.array(dealer_cards) == Card.ACE)):\n",
    "            rewards.append(-1)\n",
    "        else:\n",
    "            rewards.append(1)\n",
    "        return states, actions, rewards\n",
    "    # If the player has less than 12, he hits until he reaches it.\n",
    "    while player_sum < 12:\n",
    "        new_card = deal_cards(num=1)\n",
    "        player_cards.append(new_card)\n",
    "        player_sum = get_value(player_cards, aces_as_11=np.where(np.array(player_cards) == Card.ACE))\n",
    "    print(player_sum)\n",
    "    print(player_cards)\n",
    "    # states = [START_POS]\n",
    "    # actions = []\n",
    "    # rewards = []\n",
    "    # current_state = start_state\n",
    "    # while not reached_target(current_state):\n",
    "    #     # Epsilon-greedy selection\n",
    "    #     if np.random.random() <= epsilon:\n",
    "    #         action = select_random_action(current_state, policy)\n",
    "    #     else:\n",
    "    #         action = select_action_according_to_policy(current_state, policy)\n",
    "    #     next_state, reward = execute_action(current_state, action)\n",
    "    #     current_state = next_state\n",
    "    #     states.append(next_state)\n",
    "    #     actions.append(action)\n",
    "    #     rewards.append(reward)\n",
    "    # return states, actions, rewards\n",
    "\n",
    "play_episode(player_policy)"
   ]
  },
  {
   "cell_type": "code",
   "execution_count": null,
   "metadata": {},
   "outputs": [],
   "source": []
  }
 ],
 "metadata": {
  "interpreter": {
   "hash": "ac7a45bdc5a3df71ccc95c77502ad70b449194eee2e6719931ab0f9b60e7f47c"
  },
  "kernelspec": {
   "display_name": "Python 3.10.0",
   "language": "python",
   "name": "python3"
  },
  "language_info": {
   "codemirror_mode": {
    "name": "ipython",
    "version": 3
   },
   "file_extension": ".py",
   "mimetype": "text/x-python",
   "name": "python",
   "nbconvert_exporter": "python",
   "pygments_lexer": "ipython3",
   "version": "3.10.0"
  },
  "orig_nbformat": 4
 },
 "nbformat": 4,
 "nbformat_minor": 2
}
